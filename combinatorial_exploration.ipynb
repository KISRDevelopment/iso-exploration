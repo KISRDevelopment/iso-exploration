{
 "cells": [
  {
   "cell_type": "code",
   "execution_count": 2,
   "metadata": {},
   "outputs": [],
   "source": [
    "import numpy as np \n",
    "import pandas as pd \n",
    "import glob\n",
    "import tensorflow as tf\n",
    "from tensorflow import keras\n",
    "from tensorflow.keras import layers\n",
    "import scipy.stats\n",
    "import numpy.random as rng\n",
    "import matplotlib.pyplot as plt\n",
    "import scipy.stats as stats"
   ]
  },
  {
   "cell_type": "markdown",
   "metadata": {},
   "source": [
    "# Combine all datasets into one easy to use dataset"
   ]
  },
  {
   "cell_type": "code",
   "execution_count": 3,
   "metadata": {},
   "outputs": [],
   "source": [
    "products = [\n",
    "    \"Hydrogen\",\n",
    "    \"n-Butane\",\n",
    "    \"i-Butane\",\n",
    "    \"n-Pentane\",\n",
    "    \"i-Pentane\",\n",
    "    \"n-Hexane\",\n",
    "    \"2-Mpentane\",\n",
    "    \"3-Mpentane\",\n",
    "    \"22-Mbutane\",\n",
    "    \"23-Mbutane\",\n",
    "    \"n-Heptane\",\n",
    "    \"2-Mhexane\",\n",
    "    \"Cyclopentane\",\n",
    "    \"Mcyclopentan\",\n",
    "    \"Cyclohexane\",\n",
    "    \"Benzene\",\n",
    "    \"Ethane\",\n",
    "    \"Propane\",\n",
    "    \"Methane\"\n",
    "]\n",
    "indecies = [\n",
    "    'Isom-100(/UnisimTag[@uopCaption=\"Internal EO - Elements[Isom-101].ProductMassPercents[Hydrogen]\"])',\n",
    "    'Isom-100(/UnisimTag[@uopCaption=\"Internal EO - Elements[Isom-101].ProductMassPercents[n-Butane]\"])',\n",
    "    'Isom-100(/UnisimTag[@uopCaption=\"Internal EO - Elements[Isom-101].ProductMassPercents[i-Butane]\"])',\n",
    "    'Isom-100(/UnisimTag[@uopCaption=\"Internal EO - Elements[Isom-101].ProductMassPercents[n-Pentane]\"])',\n",
    "    'Isom-100(/UnisimTag[@uopCaption=\"Internal EO - Elements[Isom-101].ProductMassPercents[i-Pentane]\"])',\n",
    "    'Isom-100(/UnisimTag[@uopCaption=\"Internal EO - Elements[Isom-101].ProductMassPercents[n-Hexane]\"])',\n",
    "    'Isom-100(/UnisimTag[@uopCaption=\"Internal EO - Elements[Isom-101].ProductMassPercents[2-Mpentane]\"])',\n",
    "    'Isom-100(/UnisimTag[@uopCaption=\"Internal EO - Elements[Isom-101].ProductMassPercents[3-Mpentane]\"])',\n",
    "    'Isom-100(/UnisimTag[@uopCaption=\"Internal EO - Elements[Isom-101].ProductMassPercents[22-Mbutane]\"])',\n",
    "    'Isom-100(/UnisimTag[@uopCaption=\"Internal EO - Elements[Isom-101].ProductMassPercents[23-Mbutane]\"])',\n",
    "    'Isom-100(/UnisimTag[@uopCaption=\"Internal EO - Elements[Isom-101].ProductMassPercents[n-Heptane]\"])',\n",
    "    'Isom-100(/UnisimTag[@uopCaption=\"Internal EO - Elements[Isom-101].ProductMassPercents[2-Mhexane]\"])',\n",
    "    'Isom-100(/UnisimTag[@uopCaption=\"Internal EO - Elements[Isom-101].ProductMassPercents[Cyclopentane]\"])',\n",
    "    'Isom-100(/UnisimTag[@uopCaption=\"Internal EO - Elements[Isom-101].ProductMassPercents[Mcyclopentan]\"])',\n",
    "    'Isom-100(/UnisimTag[@uopCaption=\"Internal EO - Elements[Isom-101].ProductMassPercents[Cyclohexane]\"])',\n",
    "    'Isom-100(/UnisimTag[@uopCaption=\"Internal EO - Elements[Isom-101].ProductMassPercents[Benzene]\"])',\n",
    "    'Isom-100(/UnisimTag[@uopCaption=\"Internal EO - Elements[Isom-101].ProductMassPercents[Ethane]\"])',\n",
    "    'Isom-100(/UnisimTag[@uopCaption=\"Internal EO - Elements[Isom-101].ProductMassPercents[Propane]\"])',\n",
    "    'Isom-100(/UnisimTag[@uopCaption=\"Internal EO - Elements[Isom-101].ProductMassPercents[Methane]\"])',\n",
    "]\n",
    "indecies_products = dict(zip(indecies, products))"
   ]
  },
  {
   "cell_type": "code",
   "execution_count": 4,
   "metadata": {},
   "outputs": [
    {
     "data": {
      "text/plain": [
       "True"
      ]
     },
     "execution_count": 4,
     "metadata": {},
     "output_type": "execute_result"
    }
   ],
   "source": [
    "files = glob.glob('datasets/*.xltm')\n",
    "\n",
    "sdfs = []\n",
    "for file in files:\n",
    "    df = pd.read_excel(file).set_index('UniSim Excel Interface Tool')\n",
    "    r1temps = df.loc['Isom-100(/UnisimTag[@uopCaption=\"Internal EO - Elements[Isom-100].FeedTemperature\"])']\n",
    "    r2temps = df.loc['Isom-100(/UnisimTag[@uopCaption=\"Internal EO - Elements[Isom-101].FeedTemperature\"])']\n",
    "    r1pressure = df.loc['Isom-100(/UnisimTag[@uopCaption=\"Internal EO - Elements[Isom-100].PressureDrop\"])']\n",
    "    r2pressure = df.loc['Isom-100(/UnisimTag[@uopCaption=\"Internal EO - Elements[Isom-101].PressureDrop\"])']\n",
    "    charge_heater = df.loc['Isom-100(/UnisimTag[@uopCaption=\"Internal EO - Elements[Charge Heater].EnergyFlow\"])']\n",
    "    ron = df.loc['Isom-100(/UnisimTag[@uopCaption=\"Internal EO - Elements[Isom-101].OutletRON\"])']\n",
    "    pin = df.loc['Isom-100(/UnisimTag[@uopCaption=\"Internal EO - Elements[Isom-101].PIN\"])']\n",
    "    c4yield = df.loc['Isom-100(/UnisimTag[@uopCaption=\"Internal EO - Elements[Isom-101].C4YieldMass\"])']\n",
    "    c5yield = df.loc['Isom-100(/UnisimTag[@uopCaption=\"Internal EO - Elements[Isom-101].C5YieldMass\"])']\n",
    "    \n",
    "    ix = np.array([isinstance(v, np.floating) for v in r1temps]) & ~pd.isnull(r1temps)\n",
    "\n",
    "    sdf = df.loc[indecies, ix].copy()\n",
    "    sdf.index = [indecies_products[index] for index in indecies]\n",
    "    sdf = sdf.T\n",
    "    sdf['r1temp'] = r1temps[ix]\n",
    "    sdf['r2temp'] = r2temps[ix]\n",
    "    sdf['r1pressure'] = r1pressure[ix]\n",
    "    sdf['r2pressure'] = r2pressure[ix]\n",
    "    sdf['charge_heater'] = charge_heater[ix]\n",
    "    sdf['ron'] = ron[ix]\n",
    "    sdf['pin'] = pin[ix]\n",
    "    sdf['c4yield'] = c4yield[ix]\n",
    "    sdf['c5yield'] = c5yield[ix]\n",
    "    \n",
    "    sdfs.append(sdf)\n",
    "\n",
    "final_df = pd.concat(sdfs, axis=0)\n",
    "final_df.to_excel('iso-dataset.xlsx', index=False)\n",
    "\n",
    "# make sure proportions sum to 100\n",
    "np.all(np.abs(np.sum(final_df[[indecies_products[index] for index in indecies]], axis=1) - 100) < 1e3)\n"
   ]
  },
  {
   "cell_type": "markdown",
   "metadata": {},
   "source": [
    "# Analyze global solution"
   ]
  },
  {
   "cell_type": "code",
   "execution_count": 5,
   "metadata": {},
   "outputs": [],
   "source": [
    "ffdf = final_df[final_df['charge_heater'] >= 0]\n",
    "\n",
    "ix_best_ron = np.argmax(ffdf['ron'])\n",
    "ix_best_heater = np.argmin(ffdf['charge_heater'])\n",
    "ix_best_pin = np.argmax(ffdf['pin'])\n",
    "ix_best_c4_yield = np.argmax(ffdf['c4yield'])\n",
    "ix_best_c5_yield = np.argmax(ffdf['c5yield'])\n",
    "\n",
    "glob_sol = ffdf.iloc[[ix_best_ron, ix_best_heater, ix_best_pin, ix_best_c4_yield, ix_best_c5_yield, ]][['ron', 'charge_heater', 'pin', 'c4yield', 'c5yield', 'r1temp', \n",
    "                                                                    'r2temp', 'r1pressure', 'r2pressure']].copy()\n",
    "glob_sol.index = ['Max RON', 'Min Charge Heater', 'Max PIN', 'Max C4 yield', 'Max C5 yield']\n",
    "glob_sol\n",
    "glob_sol.to_excel('tmp/globsol.xlsx')"
   ]
  },
  {
   "cell_type": "markdown",
   "metadata": {},
   "source": [
    "# Fit a Neural Network to the Data\n",
    "\n",
    "## Prepare Dataset"
   ]
  },
  {
   "cell_type": "code",
   "execution_count": null,
   "metadata": {},
   "outputs": [],
   "source": [
    "# prepare and normalize input features\n",
    "Xraw = np.array(final_df[['r1temp', 'r2temp', 'r1pressure', 'r2pressure']]).astype(float)\n",
    "X = scipy.stats.zscore(Xraw, axis=0)\n",
    "\n",
    "# prepare and normalize output features\n",
    "columns = [indecies_products[index] for index in indecies]\n",
    "Y = np.array(final_df[columns])\n",
    "Y = Y / np.sum(Y, axis=1, keepdims=True)"
   ]
  },
  {
   "cell_type": "markdown",
   "metadata": {},
   "source": [
    "## Split into training/testing"
   ]
  },
  {
   "cell_type": "code",
   "execution_count": null,
   "metadata": {},
   "outputs": [],
   "source": [
    "TEST_PERC = 0.2\n",
    "\n",
    "n_test = int(TEST_PERC * X.shape[0])\n",
    "\n",
    "train_ix = np.ones(X.shape[0]).astype(bool)\n",
    "train_ix[rng.choice(X.shape[0], size=n_test, replace=False)] = False\n",
    "\n",
    "Xtrain, Ytrain = X[train_ix], Y[train_ix]\n",
    "Xtest, Ytest = X[~train_ix], Y[~train_ix]"
   ]
  },
  {
   "cell_type": "markdown",
   "metadata": {},
   "source": [
    "## Define Model"
   ]
  },
  {
   "cell_type": "code",
   "execution_count": null,
   "metadata": {},
   "outputs": [],
   "source": [
    "inputs = layers.Input(shape=(X.shape[1],))\n",
    "hidden = layers.Dense(10, activation='tanh')(inputs)\n",
    "outputs = layers.Dense(Y.shape[1], activation='softmax')(hidden)\n",
    "model = keras.Model(inputs, outputs)\n",
    "model.compile(\n",
    "    loss=keras.losses.CategoricalCrossentropy(),\n",
    "    optimizer=keras.optimizers.Nadam()\n",
    ")\n",
    "print(model.summary())"
   ]
  },
  {
   "cell_type": "markdown",
   "metadata": {},
   "source": [
    "## Fit Model"
   ]
  },
  {
   "cell_type": "code",
   "execution_count": null,
   "metadata": {},
   "outputs": [],
   "source": [
    "ix = rng.permutation(Xtrain.shape[0])\n",
    "\n",
    "callback = keras.callbacks.EarlyStopping(monitor='val_loss', patience=20, restore_best_weights=True)\n",
    "history = model.fit(Xtrain[ix,:], Ytrain[ix,:], batch_size=Xtrain.shape[0]//10, \n",
    "                    epochs=10000, validation_split=0.2, callbacks=[callback], verbose=False)"
   ]
  },
  {
   "cell_type": "code",
   "execution_count": null,
   "metadata": {},
   "outputs": [],
   "source": [
    "print(\"Epochs: %d\" % len(history.history['val_loss']))\n",
    "test_scores = model.evaluate(Xtest, Ytest, verbose=2)\n",
    "print(\"Test loss:\", test_scores)\n"
   ]
  },
  {
   "cell_type": "code",
   "execution_count": null,
   "metadata": {},
   "outputs": [],
   "source": [
    "preds = model.predict(Xtest)\n",
    "Ytest_mean = np.mean(Ytest, axis=0, keepdims=True)\n",
    "\n",
    "mse_model = np.mean(np.square(preds - Ytest), axis=0)\n",
    "mse_null = np.mean(np.square(Ytest_mean - Ytest), axis=0)\n",
    "\n",
    "ratio = mse_model / mse_null"
   ]
  },
  {
   "cell_type": "code",
   "execution_count": null,
   "metadata": {},
   "outputs": [],
   "source": [
    "f, axes = plt.subplots(3, 1, figsize=(20, 20), sharex=True)\n",
    "\n",
    "columns = np.array(columns)\n",
    "ix = ~np.isin(columns, ['Cyclopentane', 'Methane'])\n",
    "\n",
    "print(\"Relative MSE:\")\n",
    "print(\"\\n\".join(['%32s %f' % c for c in zip(columns[ix], ratio[ix])]))\n",
    "\n",
    "axes[0].bar(columns[ix], mse_model[ix])\n",
    "axes[1].bar(columns[ix], mse_null[ix])\n",
    "axes[2].bar(columns[ix], ratio[ix])\n",
    "\n",
    "for i in range(3):\n",
    "    axes[i].tick_params(axis='x', labelsize=26, rotation=90)\n",
    "    axes[i].tick_params(axis='y', labelsize=26)\n",
    "\n",
    "axes[0].set_ylabel('Model MSE', fontsize=32, fontweight='bold')\n",
    "axes[1].set_ylabel('Null MSE', fontsize=32, fontweight='bold')\n",
    "axes[2].set_ylabel('Relative MSE', fontsize=32, fontweight='bold')\n",
    "\n"
   ]
  },
  {
   "cell_type": "markdown",
   "metadata": {},
   "source": [
    "# Correlations"
   ]
  },
  {
   "cell_type": "code",
   "execution_count": null,
   "metadata": {},
   "outputs": [],
   "source": [
    "n = len(columns)\n",
    "\n",
    "products = columns\n",
    "\n",
    "corr_mat = np.zeros((n, n))\n",
    "for i in range(n):\n",
    "    \n",
    "    col_a = np.array(final_df[products[i]])\n",
    "    for j in range(i, n):\n",
    "        col_b = np.array(final_df[products[j]])\n",
    "        \n",
    "        rho, p = stats.spearmanr(col_a, col_b)\n",
    "        corr_mat[i,j] = rho\n",
    "        corr_mat[j,i] = rho\n",
    "    \n",
    "f, ax = plt.subplots(1, 1, figsize=(20, 20))\n",
    "im = ax.imshow(corr_mat, origin='lower', cmap='bwr')\n",
    "ax.set_xticks(np.arange(n))\n",
    "ax.set_xticklabels(products, rotation=90, fontsize=28, fontweight='bold')\n",
    "ax.set_yticks(np.arange(n))\n",
    "ax.set_yticklabels(products, fontsize=28, fontweight='bold')\n",
    "cbar = f.colorbar(im, ax=ax, shrink=0.8)\n",
    "cbar.ax.tick_params(labelsize=28)"
   ]
  },
  {
   "cell_type": "code",
   "execution_count": null,
   "metadata": {},
   "outputs": [],
   "source": [
    "corr_df = pd.DataFrame(corr_mat, columns=products, index=products)\n",
    "corr_df.to_excel('tmp/correlation_full.xlsx')"
   ]
  },
  {
   "cell_type": "code",
   "execution_count": null,
   "metadata": {},
   "outputs": [],
   "source": []
  }
 ],
 "metadata": {
  "kernelspec": {
   "display_name": "Python 3",
   "language": "python",
   "name": "python3"
  },
  "language_info": {
   "codemirror_mode": {
    "name": "ipython",
    "version": 3
   },
   "file_extension": ".py",
   "mimetype": "text/x-python",
   "name": "python",
   "nbconvert_exporter": "python",
   "pygments_lexer": "ipython3",
   "version": "3.8.2"
  }
 },
 "nbformat": 4,
 "nbformat_minor": 4
}
