{
 "cells": [
  {
   "cell_type": "code",
   "execution_count": null,
   "metadata": {},
   "outputs": [],
   "source": [
    "import numpy as np \n",
    "import pandas as pd \n",
    "import glob"
   ]
  },
  {
   "cell_type": "markdown",
   "metadata": {},
   "source": [
    "# Combine all datasets into one easy to use dataset"
   ]
  },
  {
   "cell_type": "code",
   "execution_count": null,
   "metadata": {},
   "outputs": [],
   "source": [
    "products = [\n",
    "    \"Hydrogen\",\n",
    "    \"n-Butane\",\n",
    "    \"i-Butane\",\n",
    "    \"n-Pentane\",\n",
    "    \"i-Pentane\",\n",
    "    \"n-Hexane\",\n",
    "    \"2-Mpentane\",\n",
    "    \"3-Mpentane\",\n",
    "    \"22-Mbutane\",\n",
    "    \"23-Mbutane\",\n",
    "    \"n-Heptane\",\n",
    "    \"2-Mhexane\",\n",
    "    \"Cyclopentane\",\n",
    "    \"Mcyclopentan\",\n",
    "    \"Cyclohexane\",\n",
    "    \"Benzene\",\n",
    "    \"Ethane\",\n",
    "    \"Propane\",\n",
    "    \"Methane\"\n",
    "]\n",
    "indecies = [\n",
    "    'Isom-100(/UnisimTag[@uopCaption=\"Internal EO - Elements[Isom-101].ProductMassPercents[Hydrogen]\"])',\n",
    "    'Isom-100(/UnisimTag[@uopCaption=\"Internal EO - Elements[Isom-101].ProductMassPercents[n-Butane]\"])',\n",
    "    'Isom-100(/UnisimTag[@uopCaption=\"Internal EO - Elements[Isom-101].ProductMassPercents[i-Butane]\"])',\n",
    "    'Isom-100(/UnisimTag[@uopCaption=\"Internal EO - Elements[Isom-101].ProductMassPercents[n-Pentane]\"])',\n",
    "    'Isom-100(/UnisimTag[@uopCaption=\"Internal EO - Elements[Isom-101].ProductMassPercents[i-Pentane]\"])',\n",
    "    'Isom-100(/UnisimTag[@uopCaption=\"Internal EO - Elements[Isom-101].ProductMassPercents[n-Hexane]\"])',\n",
    "    'Isom-100(/UnisimTag[@uopCaption=\"Internal EO - Elements[Isom-101].ProductMassPercents[2-Mpentane]\"])',\n",
    "    'Isom-100(/UnisimTag[@uopCaption=\"Internal EO - Elements[Isom-101].ProductMassPercents[3-Mpentane]\"])',\n",
    "    'Isom-100(/UnisimTag[@uopCaption=\"Internal EO - Elements[Isom-101].ProductMassPercents[22-Mbutane]\"])',\n",
    "    'Isom-100(/UnisimTag[@uopCaption=\"Internal EO - Elements[Isom-101].ProductMassPercents[23-Mbutane]\"])',\n",
    "    'Isom-100(/UnisimTag[@uopCaption=\"Internal EO - Elements[Isom-101].ProductMassPercents[n-Heptane]\"])',\n",
    "    'Isom-100(/UnisimTag[@uopCaption=\"Internal EO - Elements[Isom-101].ProductMassPercents[2-Mhexane]\"])',\n",
    "    'Isom-100(/UnisimTag[@uopCaption=\"Internal EO - Elements[Isom-101].ProductMassPercents[Cyclopentane]\"])',\n",
    "    'Isom-100(/UnisimTag[@uopCaption=\"Internal EO - Elements[Isom-101].ProductMassPercents[Mcyclopentan]\"])',\n",
    "    'Isom-100(/UnisimTag[@uopCaption=\"Internal EO - Elements[Isom-101].ProductMassPercents[Cyclohexane]\"])',\n",
    "    'Isom-100(/UnisimTag[@uopCaption=\"Internal EO - Elements[Isom-101].ProductMassPercents[Benzene]\"])',\n",
    "    'Isom-100(/UnisimTag[@uopCaption=\"Internal EO - Elements[Isom-101].ProductMassPercents[Ethane]\"])',\n",
    "    'Isom-100(/UnisimTag[@uopCaption=\"Internal EO - Elements[Isom-101].ProductMassPercents[Propane]\"])',\n",
    "    'Isom-100(/UnisimTag[@uopCaption=\"Internal EO - Elements[Isom-101].ProductMassPercents[Methane]\"])',\n",
    "]\n",
    "indecies_products = dict(zip(indecies, products))"
   ]
  },
  {
   "cell_type": "code",
   "execution_count": null,
   "metadata": {},
   "outputs": [],
   "source": [
    "files = glob.glob('datasets/*.xltm')\n",
    "\n",
    "sdfs = []\n",
    "for file in files:\n",
    "    df = pd.read_excel(file).set_index('UniSim Excel Interface Tool')\n",
    "    r1temps = df.loc['Isom-100(/UnisimTag[@uopCaption=\"Internal EO - Elements[Isom-100].FeedTemperature\"])']\n",
    "    r2temps = df.loc['Isom-100(/UnisimTag[@uopCaption=\"Internal EO - Elements[Isom-101].FeedTemperature\"])']\n",
    "    r1pressure = df.loc['Isom-100(/UnisimTag[@uopCaption=\"Internal EO - Elements[Isom-100].PressureDrop\"])']\n",
    "    r2pressure = df.loc['Isom-100(/UnisimTag[@uopCaption=\"Internal EO - Elements[Isom-101].PressureDrop\"])']\n",
    "\n",
    "    ix = np.array([isinstance(v, np.floating) for v in r1temps]) & ~pd.isnull(r1temps)\n",
    "\n",
    "    sdf = df.loc[indecies, ix].copy()\n",
    "    sdf.index = [indecies_products[index] for index in indecies]\n",
    "    sdf = sdf.T\n",
    "    sdf['r1temp'] = r1temps[ix]\n",
    "    sdf['r2temp'] = r2temps[ix]\n",
    "    sdf['r1pressure'] = r1pressure[ix]\n",
    "    sdf['r2pressure'] = r2pressure[ix]\n",
    "    \n",
    "    sdfs.append(sdf)\n",
    "\n",
    "final_df = pd.concat(sdfs, axis=0)\n",
    "final_df.to_excel('iso-dataset.xlsx', index=False)"
   ]
  },
  {
   "cell_type": "code",
   "execution_count": null,
   "metadata": {},
   "outputs": [],
   "source": []
  }
 ],
 "metadata": {
  "kernelspec": {
   "display_name": "Python 3",
   "language": "python",
   "name": "python3"
  },
  "language_info": {
   "codemirror_mode": {
    "name": "ipython",
    "version": 3
   },
   "file_extension": ".py",
   "mimetype": "text/x-python",
   "name": "python",
   "nbconvert_exporter": "python",
   "pygments_lexer": "ipython3",
   "version": "3.7.3"
  }
 },
 "nbformat": 4,
 "nbformat_minor": 4
}
