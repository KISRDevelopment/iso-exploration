{
 "cells": [
  {
   "cell_type": "code",
   "execution_count": 1,
   "id": "888ab1eb-0ef1-4ca0-b6cf-5c63b536ed19",
   "metadata": {},
   "outputs": [],
   "source": [
    "import numpy as np \n",
    "import pandas as pd \n",
    "import pingouin"
   ]
  },
  {
   "cell_type": "code",
   "execution_count": 8,
   "id": "139596a6-9523-4104-a03a-3befb0719543",
   "metadata": {},
   "outputs": [],
   "source": [
    "dfe = pd.read_csv('r490.csv')\n",
    "dfe = dfe[dfe['r1_charge_heater'] > 0]"
   ]
  },
  {
   "cell_type": "code",
   "execution_count": 9,
   "id": "2acdf47f-7b59-4e14-a9b4-ae03b6b534b8",
   "metadata": {},
   "outputs": [
    {
     "data": {
      "text/html": [
       "<div>\n",
       "<style scoped>\n",
       "    .dataframe tbody tr th:only-of-type {\n",
       "        vertical-align: middle;\n",
       "    }\n",
       "\n",
       "    .dataframe tbody tr th {\n",
       "        vertical-align: top;\n",
       "    }\n",
       "\n",
       "    .dataframe thead th {\n",
       "        text-align: right;\n",
       "    }\n",
       "</style>\n",
       "<table border=\"1\" class=\"dataframe\">\n",
       "  <thead>\n",
       "    <tr style=\"text-align: right;\">\n",
       "      <th></th>\n",
       "      <th>(process_ron, Spearman)</th>\n",
       "      <th>(process_yield, Spearman)</th>\n",
       "    </tr>\n",
       "  </thead>\n",
       "  <tbody>\n",
       "    <tr>\n",
       "      <th>r1_temp</th>\n",
       "      <td>-0.016607</td>\n",
       "      <td>0.031739</td>\n",
       "    </tr>\n",
       "    <tr>\n",
       "      <th>r2_temp</th>\n",
       "      <td>-0.332546</td>\n",
       "      <td>-0.984087</td>\n",
       "    </tr>\n",
       "    <tr>\n",
       "      <th>r1_pressure</th>\n",
       "      <td>-0.025440</td>\n",
       "      <td>0.018258</td>\n",
       "    </tr>\n",
       "    <tr>\n",
       "      <th>r2_pressure</th>\n",
       "      <td>0.001629</td>\n",
       "      <td>0.001189</td>\n",
       "    </tr>\n",
       "  </tbody>\n",
       "</table>\n",
       "</div>"
      ],
      "text/plain": [
       "             (process_ron, Spearman)  (process_yield, Spearman)\n",
       "r1_temp                    -0.016607                   0.031739\n",
       "r2_temp                    -0.332546                  -0.984087\n",
       "r1_pressure                -0.025440                   0.018258\n",
       "r2_pressure                 0.001629                   0.001189"
      ]
     },
     "execution_count": 9,
     "metadata": {},
     "output_type": "execute_result"
    }
   ],
   "source": [
    "# compute spearman correlations\n",
    "parameters = ['r1_temp', 'r2_temp', 'r1_pressure', 'r2_pressure']\n",
    "outputs = ['process_ron', 'process_yield']\n",
    "subdf = dfe[parameters + outputs]\n",
    "r = subdf.corr(method='spearman')\n",
    "subdf = r.loc[parameters, outputs].copy()\n",
    "columns = [(o, 'Spearman') for o in outputs]\n",
    "subdf.columns = columns\n",
    "subdf"
   ]
  },
  {
   "cell_type": "code",
   "execution_count": 10,
   "id": "76900a2d-6c00-40ed-949a-ad78f890510f",
   "metadata": {},
   "outputs": [
    {
     "name": "stdout",
     "output_type": "stream",
     "text": [
      "r1_temp process_ron: dcor =   0.1903\n",
      "r1_temp process_yield: dcor =   0.1405\n",
      "r2_temp process_ron: dcor =   0.5539\n",
      "r2_temp process_yield: dcor =   0.9734\n",
      "r1_pressure process_ron: dcor =   0.0215\n",
      "r1_pressure process_yield: dcor =   0.0165\n",
      "r2_pressure process_ron: dcor =   0.0021\n",
      "r2_pressure process_yield: dcor =   0.0013\n"
     ]
    },
    {
     "data": {
      "text/html": [
       "<div>\n",
       "<style scoped>\n",
       "    .dataframe tbody tr th:only-of-type {\n",
       "        vertical-align: middle;\n",
       "    }\n",
       "\n",
       "    .dataframe tbody tr th {\n",
       "        vertical-align: top;\n",
       "    }\n",
       "\n",
       "    .dataframe thead th {\n",
       "        text-align: right;\n",
       "    }\n",
       "</style>\n",
       "<table border=\"1\" class=\"dataframe\">\n",
       "  <thead>\n",
       "    <tr style=\"text-align: right;\">\n",
       "      <th></th>\n",
       "      <th>(process_ron, dCor)</th>\n",
       "      <th>(process_yield, dCor)</th>\n",
       "    </tr>\n",
       "    <tr>\n",
       "      <th>parameter</th>\n",
       "      <th></th>\n",
       "      <th></th>\n",
       "    </tr>\n",
       "  </thead>\n",
       "  <tbody>\n",
       "    <tr>\n",
       "      <th>r1_temp</th>\n",
       "      <td>0.190257</td>\n",
       "      <td>0.140460</td>\n",
       "    </tr>\n",
       "    <tr>\n",
       "      <th>r2_temp</th>\n",
       "      <td>0.553875</td>\n",
       "      <td>0.973402</td>\n",
       "    </tr>\n",
       "    <tr>\n",
       "      <th>r1_pressure</th>\n",
       "      <td>0.021514</td>\n",
       "      <td>0.016494</td>\n",
       "    </tr>\n",
       "    <tr>\n",
       "      <th>r2_pressure</th>\n",
       "      <td>0.002097</td>\n",
       "      <td>0.001265</td>\n",
       "    </tr>\n",
       "  </tbody>\n",
       "</table>\n",
       "</div>"
      ],
      "text/plain": [
       "             (process_ron, dCor)  (process_yield, dCor)\n",
       "parameter                                              \n",
       "r1_temp                 0.190257               0.140460\n",
       "r2_temp                 0.553875               0.973402\n",
       "r1_pressure             0.021514               0.016494\n",
       "r2_pressure             0.002097               0.001265"
      ]
     },
     "execution_count": 10,
     "metadata": {},
     "output_type": "execute_result"
    }
   ],
   "source": [
    "# distance correlations\n",
    "rows = []\n",
    "for parameter in parameters:\n",
    "    row = {\n",
    "        'parameter' : parameter\n",
    "    }\n",
    "    for output in outputs:\n",
    "        a = np.array(dfe[parameter])\n",
    "        b = np.array(dfe[output])\n",
    "        dcor = pingouin.distance_corr(a, b, n_boot=None)\n",
    "        print(\"%s %s: dcor = %8.4f\" % (parameter, output, dcor)) \n",
    "        row[(output, 'dCor')] = dcor\n",
    "    rows.append(row)\n",
    "dCorrdf = pd.DataFrame(rows).set_index('parameter')\n",
    "dCorrdf"
   ]
  },
  {
   "cell_type": "code",
   "execution_count": 11,
   "id": "a9955b54-626e-41c2-ac48-2c1afdce7f0b",
   "metadata": {},
   "outputs": [
    {
     "data": {
      "text/html": [
       "<div>\n",
       "<style scoped>\n",
       "    .dataframe tbody tr th:only-of-type {\n",
       "        vertical-align: middle;\n",
       "    }\n",
       "\n",
       "    .dataframe tbody tr th {\n",
       "        vertical-align: top;\n",
       "    }\n",
       "\n",
       "    .dataframe thead tr th {\n",
       "        text-align: left;\n",
       "    }\n",
       "</style>\n",
       "<table border=\"1\" class=\"dataframe\">\n",
       "  <thead>\n",
       "    <tr>\n",
       "      <th></th>\n",
       "      <th>process_ron</th>\n",
       "      <th>process_yield</th>\n",
       "      <th>process_ron</th>\n",
       "      <th>process_yield</th>\n",
       "    </tr>\n",
       "    <tr>\n",
       "      <th></th>\n",
       "      <th>dCor</th>\n",
       "      <th>dCor</th>\n",
       "      <th>Spearman</th>\n",
       "      <th>Spearman</th>\n",
       "    </tr>\n",
       "  </thead>\n",
       "  <tbody>\n",
       "    <tr>\n",
       "      <th>r1_temp</th>\n",
       "      <td>0.19</td>\n",
       "      <td>0.14</td>\n",
       "      <td>-0.02</td>\n",
       "      <td>0.03</td>\n",
       "    </tr>\n",
       "    <tr>\n",
       "      <th>r2_temp</th>\n",
       "      <td>0.55</td>\n",
       "      <td>0.97</td>\n",
       "      <td>-0.33</td>\n",
       "      <td>-0.98</td>\n",
       "    </tr>\n",
       "    <tr>\n",
       "      <th>r1_pressure</th>\n",
       "      <td>0.02</td>\n",
       "      <td>0.02</td>\n",
       "      <td>-0.03</td>\n",
       "      <td>0.02</td>\n",
       "    </tr>\n",
       "    <tr>\n",
       "      <th>r2_pressure</th>\n",
       "      <td>0.00</td>\n",
       "      <td>0.00</td>\n",
       "      <td>0.00</td>\n",
       "      <td>0.00</td>\n",
       "    </tr>\n",
       "  </tbody>\n",
       "</table>\n",
       "</div>"
      ],
      "text/plain": [
       "            process_ron process_yield process_ron process_yield\n",
       "                   dCor          dCor    Spearman      Spearman\n",
       "r1_temp            0.19          0.14       -0.02          0.03\n",
       "r2_temp            0.55          0.97       -0.33         -0.98\n",
       "r1_pressure        0.02          0.02       -0.03          0.02\n",
       "r2_pressure        0.00          0.00        0.00          0.00"
      ]
     },
     "execution_count": 11,
     "metadata": {},
     "output_type": "execute_result"
    }
   ],
   "source": [
    "# final table\n",
    "corrdf = pd.concat((dCorrdf, subdf), axis=1)\n",
    "corrdf.columns = pd.MultiIndex.from_tuples(corrdf.columns)\n",
    "corrdf.to_csv(\"tmp/table1.csv\")\n",
    "corrdf.round(2)"
   ]
  },
  {
   "cell_type": "code",
   "execution_count": null,
   "id": "51cbf6ff-1d7a-4fef-957c-25dc10c368ed",
   "metadata": {},
   "outputs": [],
   "source": []
  }
 ],
 "metadata": {
  "kernelspec": {
   "display_name": "Python 3 (ipykernel)",
   "language": "python",
   "name": "python3"
  },
  "language_info": {
   "codemirror_mode": {
    "name": "ipython",
    "version": 3
   },
   "file_extension": ".py",
   "mimetype": "text/x-python",
   "name": "python",
   "nbconvert_exporter": "python",
   "pygments_lexer": "ipython3",
   "version": "3.8.10"
  }
 },
 "nbformat": 4,
 "nbformat_minor": 5
}
