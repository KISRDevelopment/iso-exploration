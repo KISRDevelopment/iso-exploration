{
 "cells": [
  {
   "cell_type": "code",
   "execution_count": 11,
   "id": "93a92fbb-1026-44f8-a28a-c306c4a66dc4",
   "metadata": {},
   "outputs": [],
   "source": [
    "import numpy as np\n",
    "import GPy\n",
    "import matplotlib.pyplot as plt\n",
    "import scipy.stats as stats\n",
    "import importlib\n",
    "import pandas as pd"
   ]
  },
  {
   "cell_type": "markdown",
   "id": "f6e7e7fd-2322-428b-86ff-ac340ea5a230",
   "metadata": {},
   "source": [
    "# Generate synthetic data "
   ]
  },
  {
   "cell_type": "code",
   "execution_count": null,
   "id": "c15b57a1-7975-4e29-bbbb-2ca42f377694",
   "metadata": {},
   "outputs": [],
   "source": []
  },
  {
   "cell_type": "code",
   "execution_count": 12,
   "id": "2defce0e-bd6b-43db-a389-abfa3ca1c716",
   "metadata": {},
   "outputs": [],
   "source": [
    "N = 50\n",
    "\n",
    "X = np.random.rand(N,1)*12\n",
    "k1 = GPy.kern.RBF(1, variance=1, lengthscale=50)\n",
    "K1 = k1.K(X)\n",
    "f1 = np.random.multivariate_normal(np.zeros(N), K1).reshape(N,1)\n",
    "\n",
    "k2 = GPy.kern.RBF(1, variance=1, lengthscale=5)\n",
    "K2 = k2.K(X)\n",
    "f2 = np.random.multivariate_normal(np.zeros(N), K2).reshape(N,1)\n",
    "\n",
    "k3 = GPy.kern.RBF(1, variance=0.2, lengthscale=0.1)\n",
    "K3 = k3.K(X)\n",
    "f3 = np.random.multivariate_normal(np.zeros(N), K3).reshape(N,1)\n",
    "\n",
    "f = np.hstack((f1, f2, f3))\n",
    "\n",
    "W = np.array([[1, 0, 0], \n",
    "              [0, 1, 0], \n",
    "              [0, 0, 1]])\n",
    "\n",
    "Y = np.dot(f,W) + np.random.randn(*f.shape) * 0.001"
   ]
  },
  {
   "cell_type": "code",
   "execution_count": null,
   "id": "5794089d-b6e1-4aa6-8582-3022ce06e3ce",
   "metadata": {},
   "outputs": [],
   "source": [
    "Ntrain = 35\n",
    "Xtrain = X[:Ntrain,:]\n",
    "Ytrain = Y[:Ntrain,:]\n",
    "Xtest = X[Ntrain:,:]\n",
    "Ytest = Y[Ntrain:,:]"
   ]
  },
  {
   "cell_type": "code",
   "execution_count": null,
   "id": "256dcec1-e2c3-4448-8d3e-0b468cae634e",
   "metadata": {},
   "outputs": [],
   "source": [
    "f, axes = plt.subplots(3, 1, sharex=True, figsize=(10, 5))\n",
    "for i in range(3):\n",
    "    axes[i].plot(Xtrain, Ytrain[:,i], linestyle='', marker='o')\n",
    "    axes[i].plot(Xtest, Ytest[:,i], linestyle='', marker='x')"
   ]
  },
  {
   "cell_type": "code",
   "execution_count": null,
   "id": "70d1673a-c7b2-436c-96db-915bd3bc6fd9",
   "metadata": {},
   "outputs": [],
   "source": [
    "ones = np.ones(Xtest.shape[0])[:,np.newaxis]\n",
    "newX = np.vstack([np.hstack([Xtest,ones*i]) for i in range(3)])\n",
    "noise_dict = {'output_index': newX[:,[-1]].astype(int)}"
   ]
  },
  {
   "cell_type": "code",
   "execution_count": null,
   "id": "bb16e5d6-acc6-4266-b710-4e298de4e5dc",
   "metadata": {},
   "outputs": [],
   "source": [
    "Xstar = np.linspace(0, 12, 30000)[:,None]\n",
    "ones_star = np.ones(Xstar.shape[0])[:,np.newaxis]\n",
    "newXstar = np.vstack([np.hstack([Xstar,ones_star*i]) for i in range(3)])\n",
    "noise_dict_star = {'output_index': newXstar[:,[-1]].astype(int)}"
   ]
  },
  {
   "cell_type": "code",
   "execution_count": null,
   "id": "f92d20a4-fdf9-49ca-a868-fa77756a2b19",
   "metadata": {},
   "outputs": [],
   "source": [
    "k1 = GPy.kern.RBF(1).prod(GPy.kern.Coregionalize(1, 3, active_dims=[1], rank=1, name='B'), name='k1')\n",
    "k1.B.kappa.constrain_fixed(0)\n",
    "\n",
    "k2 = GPy.kern.RBF(1).prod(GPy.kern.Coregionalize(1, 3, active_dims=[1], rank=1, name='B'), name='k2')\n",
    "k2.B.kappa.constrain_fixed(0)\n",
    "\n",
    "k3 = GPy.kern.RBF(1).prod(GPy.kern.Coregionalize(1, 3, active_dims=[1], rank=1, name='B'), name='k3')\n",
    "k3.B.kappa.constrain_fixed(0)\n",
    "\n",
    "k = k1+k2+k3\n",
    "k\n",
    "\n",
    "#k = GPy.kern.RBF(1).prod(GPy.kern.Coregionalize(1, 3, active_dims=[1], rank=3, name='B'),name='icm')\n",
    "\n",
    "m = GPy.models.GPCoregionalizedRegression([Xtrain for i in range(3)], \n",
    "                                          [Ytrain[:,[i]] for i in range(3)],\n",
    "                                           kernel=k)\n",
    "#m.icm.B.kappa.constrain_fixed(0)\n",
    "m.optimize()\n",
    "\n",
    "m"
   ]
  },
  {
   "cell_type": "code",
   "execution_count": null,
   "id": "900d4341-b4d4-4a67-83b9-f362fb0b3cb8",
   "metadata": {},
   "outputs": [],
   "source": [
    "print(newX.shape)\n",
    "mu, var = m.predict(newX, Y_metadata=noise_dict)\n",
    "mu = np.reshape(mu, (3, -1)).T\n",
    "mse = np.mean(np.square(mu - Ytest), axis=0)\n",
    "    \n",
    "print(mse)\n",
    "\n",
    "print(newXstar.shape)\n",
    "mu, var = m.predict(newXstar, Y_metadata=noise_dict_star)\n",
    "mu = np.reshape(mu, (3, -1)).T\n",
    "var = np.reshape(var, (3, -1)).T\n",
    "a, b = stats.norm.interval(0.95, mu, np.sqrt(var))\n",
    "    \n",
    "f, axes = plt.subplots(3, 1, sharex=True, figsize=(10, 5))\n",
    "for i in range(3):\n",
    "    axes[i].plot(Xtrain, Ytrain[:,i], linestyle='', marker='o')\n",
    "    axes[i].plot(Xtest, Ytest[:,i], linestyle='', marker='x')\n",
    "    axes[i].plot(Xstar, mu[:,i])\n",
    "    axes[i].fill_between(Xstar[:,0], a[:,i], b[:,i], alpha=0.2)\n",
    "plt.show()"
   ]
  },
  {
   "cell_type": "code",
   "execution_count": null,
   "id": "e52ebb4b-228b-4506-b7ea-988cc30bff7d",
   "metadata": {},
   "outputs": [],
   "source": [
    "import gp #import the module here, so that it can be reloaded.\n",
    "importlib.reload(gp)\n"
   ]
  },
  {
   "cell_type": "code",
   "execution_count": null,
   "id": "43d94302-30ba-4c2e-b032-841a7bf896cc",
   "metadata": {},
   "outputs": [],
   "source": [
    "model = gp.GPModel({})\n",
    "model.train(Xtrain, Ytrain)"
   ]
  },
  {
   "cell_type": "code",
   "execution_count": null,
   "id": "3a7539cf-ff24-4968-8961-cc3b931937ca",
   "metadata": {},
   "outputs": [],
   "source": [
    "samples = model.predict(Xstar, n_samples=10)\n",
    "samples.shape"
   ]
  },
  {
   "cell_type": "code",
   "execution_count": null,
   "id": "34b5b51f-7f4a-48fe-9c88-801324e4bfbb",
   "metadata": {},
   "outputs": [],
   "source": [
    "f, axes = plt.subplots(3, 1, sharex=True, figsize=(10, 5))\n",
    "for i in range(3):\n",
    "    for s in range(samples.shape[0]):\n",
    "        axes[i].plot(Xstar, samples[s,:,i])\n",
    "plt.show()"
   ]
  },
  {
   "cell_type": "code",
   "execution_count": 13,
   "id": "f6237ad1-6d61-4d3a-93c8-4b19ef67a18d",
   "metadata": {},
   "outputs": [],
   "source": [
    "import numpy.random as rng"
   ]
  },
  {
   "cell_type": "code",
   "execution_count": 14,
   "id": "69fb8dbd-4a7b-48ad-a839-953d5d387367",
   "metadata": {},
   "outputs": [],
   "source": [
    "df = pd.read_csv(\"r490.csv\")\n",
    "df = df[df['r1_charge_heater'] >= 0]\n",
    "\n",
    "X = np.array(df[['r1_temp', 'r2_temp', 'r1_pressure', 'r2_pressure']])\n",
    "Y = np.array(df[['r1_charge_heater', 'process_ron', 'process_yield']])\n"
   ]
  },
  {
   "cell_type": "code",
   "execution_count": 15,
   "id": "5e034a4b-6a37-4ece-a31e-34b7f0320205",
   "metadata": {},
   "outputs": [],
   "source": [
    "ix = rng.permutation(X.shape[0])\n",
    "N = 40\n",
    "\n",
    "Xtrain = X[ix[:N],:]\n",
    "Ytrain = Y[ix[:N],:]"
   ]
  },
  {
   "cell_type": "code",
   "execution_count": 16,
   "id": "2ba57fc6-1421-4bfd-a91c-6f597eabb38b",
   "metadata": {},
   "outputs": [
    {
     "data": {
      "text/html": [
       "<style type=\"text/css\">\n",
       ".pd{\n",
       "    font-family: \"Courier New\", Courier, monospace !important;\n",
       "    width: 100%;\n",
       "    padding: 3px;\n",
       "}\n",
       "</style>\n",
       "\n",
       "<p class=pd>\n",
       "<b>Model</b>: gp<br>\n",
       "<b>Objective</b>: 1234.8912538495488<br>\n",
       "<b>Number of Parameters</b>: 11<br>\n",
       "<b>Number of Optimization Parameters</b>: 11<br>\n",
       "<b>Updates</b>: True<br>\n",
       "</p>\n",
       "<style type=\"text/css\">\n",
       ".tg  {font-family:\"Courier New\", Courier, monospace !important;padding:2px 3px;word-break:normal;border-collapse:collapse;border-spacing:0;border-color:#DCDCDC;margin:0px auto;width:100%;}\n",
       ".tg td{font-family:\"Courier New\", Courier, monospace !important;font-weight:bold;color:#444;background-color:#F7FDFA;border-style:solid;border-width:1px;overflow:hidden;word-break:normal;border-color:#DCDCDC;}\n",
       ".tg th{font-family:\"Courier New\", Courier, monospace !important;font-weight:normal;color:#fff;background-color:#26ADE4;border-style:solid;border-width:1px;overflow:hidden;word-break:normal;border-color:#DCDCDC;}\n",
       ".tg .tg-left{font-family:\"Courier New\", Courier, monospace !important;font-weight:normal;text-align:left;}\n",
       ".tg .tg-center{font-family:\"Courier New\", Courier, monospace !important;font-weight:normal;text-align:center;}\n",
       ".tg .tg-right{font-family:\"Courier New\", Courier, monospace !important;font-weight:normal;text-align:right;}\n",
       "</style>\n",
       "<table class=\"tg\"><tr><th><b>  gp.                                  </b></th><th><b>                 value</b></th><th><b>constraints</b></th><th><b>priors</b></th></tr>\n",
       "<tr><td class=tg-left>  ICM.rbf.variance                     </td><td class=tg-right>     25843.79391607601</td><td class=tg-center>    +ve    </td><td class=tg-center>      </td></tr>\n",
       "<tr><td class=tg-left>  ICM.rbf.lengthscale                  </td><td class=tg-right>     41.94659298366811</td><td class=tg-center>    +ve    </td><td class=tg-center>      </td></tr>\n",
       "<tr><td class=tg-left>  ICM.B.W                              </td><td class=tg-right>                (3, 1)</td><td class=tg-center>           </td><td class=tg-center>      </td></tr>\n",
       "<tr><td class=tg-left>  ICM.B.kappa                          </td><td class=tg-right>                  (3,)</td><td class=tg-center>    +ve    </td><td class=tg-center>      </td></tr>\n",
       "<tr><td class=tg-left>  mixed_noise.Gaussian_noise_0.variance</td><td class=tg-right>     4330.972379281182</td><td class=tg-center>    +ve    </td><td class=tg-center>      </td></tr>\n",
       "<tr><td class=tg-left>  mixed_noise.Gaussian_noise_1.variance</td><td class=tg-right>    1383.1230724899988</td><td class=tg-center>    +ve    </td><td class=tg-center>      </td></tr>\n",
       "<tr><td class=tg-left>  mixed_noise.Gaussian_noise_2.variance</td><td class=tg-right>5.562684646268137e-309</td><td class=tg-center>    +ve    </td><td class=tg-center>      </td></tr>\n",
       "</table>"
      ],
      "text/plain": [
       "<GPy.models.gp_coregionalized_regression.GPCoregionalizedRegression at 0x7f31d98fe760>"
      ]
     },
     "execution_count": 16,
     "metadata": {},
     "output_type": "execute_result"
    }
   ],
   "source": [
    "n_inputs = X.shape[1]\n",
    "n_outputs = Y.shape[1]\n",
    "\n",
    "slfm_kernel = GPy.kern.RBF(n_inputs).prod(GPy.kern.Coregionalize(1, n_outputs, active_dims=[n_inputs], rank=1, name='B'), name='k0')\n",
    "slfm_kernel.B.kappa.constrain_fixed(1)\n",
    "for i in range(1,n_outputs):\n",
    "    k = GPy.kern.RBF(n_inputs).prod(GPy.kern.Coregionalize(1, n_outputs, \n",
    "            active_dims=[n_inputs], rank=1, name='B'), name='k%d' % i)\n",
    "    k.B.kappa.constrain_fixed(1)\n",
    "    slfm_kernel = slfm_kernel + k\n",
    "            \n",
    "#k = GPy.kern.RBF(n_inputs).prod(GPy.kern.Coregionalize(1, n_outputs, active_dims=[n_inputs], rank=1, name='B'),name='icm')\n",
    "k = GPy.util.multioutput.ICM(input_dim=n_inputs,num_outputs=n_outputs, kernel=GPy.kern.RBF(n_inputs))\n",
    "\n",
    "m = GPy.models.GPCoregionalizedRegression([Xtrain for i in range(n_outputs)], \n",
    "                                          [Ytrain[:,[i]] for i in range(n_outputs)],\n",
    "                                           kernel=k)\n",
    "#m.icm.B.kappa.constrain_fixed(0)\n",
    "m.optimize()\n",
    "\n",
    "m"
   ]
  },
  {
   "cell_type": "code",
   "execution_count": 17,
   "id": "aa7171cf-682f-4073-9a0f-1b8b0ca508bc",
   "metadata": {},
   "outputs": [],
   "source": [
    "r1ts = np.linspace(128, 166, 100)\n",
    "r2ts = np.linspace(128, 166, 100)\n",
    "Xstar = []\n",
    "for r1t in r1ts:\n",
    "    for r2t in r2ts:\n",
    "        Xstar.append([r1t, r2t, 50, 50])\n",
    "Xstar = np.array(Xstar)\n",
    "\n",
    "ones = np.ones(Xstar.shape[0])[:,np.newaxis]\n",
    "newX = np.vstack([np.hstack([Xstar,ones*i]) for i in range(n_outputs)])\n",
    "noise_dict = {'output_index': newX[:,[-1]].astype(int)}"
   ]
  },
  {
   "cell_type": "code",
   "execution_count": 18,
   "id": "37aa7d33-6ed9-4d48-add1-9bc97436eb23",
   "metadata": {},
   "outputs": [],
   "source": [
    "mu, var = m.predict(newX, Y_metadata=noise_dict)\n",
    "mu = np.reshape(mu, (n_outputs, Xstar.shape[0])).T\n",
    "var = np.reshape(var, (n_outputs, Xstar.shape[0])).T"
   ]
  },
  {
   "cell_type": "code",
   "execution_count": 19,
   "id": "88f1d11b-4b8e-4dba-be72-2ae00e580eb9",
   "metadata": {},
   "outputs": [
    {
     "data": {
      "image/png": "[encoded data removed]",
      "text/plain": [
       "<Figure size 720x720 with 2 Axes>"
      ]
     },
     "metadata": {
      "needs_background": "light"
     },
     "output_type": "display_data"
    }
   ],
   "source": [
    "predicted_ch = np.reshape(mu[:,0], (100, 100))\n",
    "f, ax = plt.subplots(1, 1, figsize=(10, 10))\n",
    "im = ax.imshow(predicted_ch, origin='lower')\n",
    "cbar = f.colorbar(im, ax=ax, shrink=0.8)\n",
    "cbar.ax.tick_params(labelsize=32) "
   ]
  },
  {
   "cell_type": "code",
   "execution_count": 20,
   "id": "12a0044b-2122-43a9-80ab-b7d6238b2d44",
   "metadata": {},
   "outputs": [
    {
     "data": {
      "image/png": "[encoded data removed]",
      "text/plain": [
       "<Figure size 720x720 with 2 Axes>"
      ]
     },
     "metadata": {
      "needs_background": "light"
     },
     "output_type": "display_data"
    }
   ],
   "source": [
    "predicted_ron = np.reshape(mu[:,1], (100, 100))\n",
    "f, ax = plt.subplots(1, 1, figsize=(10, 10))\n",
    "im = ax.imshow(predicted_ron, origin='lower')\n",
    "cbar = f.colorbar(im, ax=ax, shrink=0.8)\n",
    "cbar.ax.tick_params(labelsize=32) "
   ]
  },
  {
   "cell_type": "code",
   "execution_count": null,
   "id": "c451b182-f601-4dc0-86e3-dc8b9119703d",
   "metadata": {},
   "outputs": [],
   "source": []
  }
 ],
 "metadata": {
  "kernelspec": {
   "display_name": "Python 3 (ipykernel)",
   "language": "python",
   "name": "python3"
  },
  "language_info": {
   "codemirror_mode": {
    "name": "ipython",
    "version": 3
   },
   "file_extension": ".py",
   "mimetype": "text/x-python",
   "name": "python",
   "nbconvert_exporter": "python",
   "pygments_lexer": "ipython3",
   "version": "3.8.10"
  }
 },
 "nbformat": 4,
 "nbformat_minor": 5
}
