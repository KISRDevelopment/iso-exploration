{
 "cells": [
  {
   "cell_type": "code",
   "execution_count": null,
   "metadata": {},
   "outputs": [],
   "source": [
    "import numpy as np \n",
    "import pandas as pd \n",
    "import matplotlib.pyplot as plt\n",
    "from cycler import cycler"
   ]
  },
  {
   "cell_type": "code",
   "execution_count": null,
   "metadata": {},
   "outputs": [],
   "source": [
    "df = pd.read_excel('Iso.xlsx', sheet_name='Previous worksheet').set_index('Variable')\n",
    "df.columns = df.loc['R1 FeedTemperature', :]\n"
   ]
  },
  {
   "cell_type": "code",
   "execution_count": null,
   "metadata": {},
   "outputs": [],
   "source": [
    "visualization_targets = ['R1 Results C4+ yield (wt) [%]', 'R1 Results C5+ yield (wt) [%]', \n",
    "                         'R1 Results PIN', 'R1 Results Product C4+ RON', 'iC4/C4 [%]', 'iC5/C5 [%]', '2MC5/C6 [%]', '3MC5/C6 [%]',\n",
    "                         '22MB/C6 [%]', '23MB/C6 [%]', 'iC7/C7 [%]']\n",
    "\n",
    "temps = df.columns[2:]\n",
    "\n",
    "f, axes = plt.subplots(6, 2, figsize=(20, 20), sharex=True)\n",
    "axes = axes.flatten()\n",
    "\n",
    "for i, vt in enumerate(visualization_targets):\n",
    "    ax = axes[i]\n",
    "    ax.plot(temps, df.loc[vt, temps], 'o-', markersize=15, linewidth=5)\n",
    "    ax.set_title(vt, fontsize=18)\n",
    "    ax.tick_params(axis='x', labelsize=16)\n",
    "    ax.tick_params(axis='y', labelsize=16)\n",
    "    ax.grid('on')"
   ]
  },
  {
   "cell_type": "code",
   "execution_count": null,
   "metadata": {},
   "outputs": [],
   "source": [
    "visualization_targets = ['R2 Results C4+ yield (wt) [%]', \n",
    "                         'R2 Resutls C5+ yield (wt) [%]', \n",
    "                         'R2 Results PIN', \n",
    "                         'R2 Results Product C4+ RON', \n",
    "                         'R2 Results iC4/C4 [%]',\n",
    "                         'R2 Results iC5/C5 [%]',\n",
    "                         'R2 Results 2MC5/C6 [%]',\n",
    "                         'R2 Resutls 3MC5/C6 [%]',\n",
    "                         'R2 Resutls 22MB/C6 [%]',\n",
    "                         'R2 Results 23MB/C6 [%]',\n",
    "                         'R2 Results iC7/C7 [%]'\n",
    "                        ]\n",
    "\n",
    "temps = df.columns[2:]\n",
    "\n",
    "f, axes = plt.subplots(6, 2, figsize=(20, 20), sharex=True)\n",
    "axes = axes.flatten()\n",
    "\n",
    "for i, vt in enumerate(visualization_targets):\n",
    "    ax = axes[i]\n",
    "    ax.plot(temps, df.loc[vt, temps], 'o-', markersize=15, linewidth=5)\n",
    "    ax.set_title(vt, fontsize=18)\n",
    "    ax.tick_params(axis='x', labelsize=16)\n",
    "    ax.tick_params(axis='y', labelsize=16)\n",
    "    ax.grid('on')"
   ]
  },
  {
   "cell_type": "markdown",
   "metadata": {},
   "source": [
    "# Product Proportions"
   ]
  },
  {
   "cell_type": "code",
   "execution_count": null,
   "metadata": {},
   "outputs": [],
   "source": [
    "df = pd.read_excel('Iso.xlsx', sheet_name='Cleaned Data').set_index('Variable')\n",
    "temps = np.array(df.loc['R1 FeedTemperature', df.columns[1::2]]).astype(np.float)\n",
    "products = [\n",
    "    \"R2 Product Hydrogen\",\n",
    "    \"R2 Product n-Butane\",\n",
    "    \"R2 Product i-Butane\",\n",
    "    \"R2 Product n-Pentane\",\n",
    "    \"R2 Product i-Pentane\",\n",
    "    \"R2 Product n-Hexane\",\n",
    "    \"R2 Product 2-Mpentane\",\n",
    "    \"R2 Product 3-Mpentane\",\n",
    "    \"R2 Product 22-Mbutane\",\n",
    "    \"R2 Product 23-Mbutane\",\n",
    "    \"R2 Product n-Heptane\",\n",
    "    \"R2 Product 2-Mhexane\",\n",
    "    \"R2 Product Cyclopentane\",\n",
    "    \"R2 Product Mcyclopentan\",\n",
    "    \"R2 Product Cyclohexane\",\n",
    "    \"R2 Product Benzene\",\n",
    "    \"R2 Product Ethane\",\n",
    "    \"R2 Product Propane\",\n",
    "    \"R2 Product Methane\"\n",
    "]\n",
    "product_colors = [c['color'] for c in  cycler(color=plt.cm.tab20.colors)]\n",
    "pc = list(zip(products, product_colors))\n",
    "\n",
    "f, ax = plt.subplots(1, 1, figsize=(20, 10))\n",
    "for product, color in pc:\n",
    "    ax.plot(temps, df.loc[product, df.columns[2::2]], linewidth=5, linestyle='-', marker='o', markersize=15, color=color, label=product)\n",
    "ax.tick_params(axis='x', labelsize=22)\n",
    "ax.tick_params(axis='y', labelsize=22)\n",
    "ax.set_xlabel('Temperature (C)', fontsize=28, fontweight='bold')\n",
    "ax.set_ylabel('Proportion', fontsize=28, fontweight='bold')\n",
    "ax.grid(True)\n",
    "ax.legend(loc='upper center', bbox_to_anchor=(0.5, -0.08), fancybox=False, shadow=False, frameon=False, ncol=3, fontsize=24)\n",
    "ax.set_title('R2 Product Proportions', fontweight='bold', fontsize=32)"
   ]
  },
  {
   "cell_type": "code",
   "execution_count": null,
   "metadata": {},
   "outputs": [],
   "source": [
    "# pick out products where proportion is always less than 0.1\n",
    "small_prods = [p for p in pc if np.max(df.loc[p[0], df.columns[2::2]]) < 0.1]\n",
    "f, ax = plt.subplots(1, 1, figsize=(20, 10))\n",
    "\n",
    "for product, color in small_prods:\n",
    "    ax.plot(temps, df.loc[product, df.columns[2::2]], linewidth=5, linestyle='-', marker='o', markersize=15, color=color, label=product)\n",
    "    ax.tick_params(axis='x', labelsize=22)\n",
    "    ax.tick_params(axis='y', labelsize=22)\n",
    "    ax.set_xlabel('Temperature (C)', fontsize=28, fontweight='bold')\n",
    "    ax.set_ylabel('Proportion', fontsize=28, fontweight='bold')\n",
    "    ax.grid(True)\n",
    "    ax.legend(loc='upper center', bbox_to_anchor=(0.5, -0.08), fancybox=False, shadow=False, frameon=False, ncol=3, fontsize=24)\n",
    "ax.set_title('Products whose Proportion < 0.1', fontweight='bold', fontsize=32)"
   ]
  },
  {
   "cell_type": "code",
   "execution_count": null,
   "metadata": {},
   "outputs": [],
   "source": []
  }
 ],
 "metadata": {
  "kernelspec": {
   "display_name": "Python 3",
   "language": "python",
   "name": "python3"
  },
  "language_info": {
   "codemirror_mode": {
    "name": "ipython",
    "version": 3
   },
   "file_extension": ".py",
   "mimetype": "text/x-python",
   "name": "python",
   "nbconvert_exporter": "python",
   "pygments_lexer": "ipython3",
   "version": "3.8.2"
  }
 },
 "nbformat": 4,
 "nbformat_minor": 4
}
